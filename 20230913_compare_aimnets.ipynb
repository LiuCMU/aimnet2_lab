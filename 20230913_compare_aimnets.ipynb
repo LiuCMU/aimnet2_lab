{
 "cells": [
  {
   "cell_type": "code",
   "execution_count": 1,
   "metadata": {},
   "outputs": [],
   "source": [
    "from rdkit import Chem\n",
    "import torch\n",
    "torch.backends.cuda.matmul.allow_tf32 = False\n",
    "torch.backends.cudnn.allow_tf32 = False"
   ]
  },
  {
   "cell_type": "code",
   "execution_count": 2,
   "metadata": {},
   "outputs": [
    {
     "name": "stdout",
     "output_type": "stream",
     "text": [
      "cuda:1\n"
     ]
    }
   ],
   "source": [
    "device = torch.device('cuda:1' if torch.cuda.is_available() else 'cpu')\n",
    "# device = torch.device('cpu')\n",
    "print(device)\n",
    "in_path = 'example.sdf'\n",
    "\n",
    "aimnet2 = torch.jit.load('/home/jack/aimnet2_lab/models/aimnet2_wb97m-d3_ens.jpt', map_location=device)\n",
    "aimnet2_0 = torch.jit.load('/home/jack/aimnet2_lab/models/aimnet2_wb97m-d3_0.jpt', map_location=device)"
   ]
  },
  {
   "cell_type": "code",
   "execution_count": 3,
   "metadata": {},
   "outputs": [
    {
     "name": "stdout",
     "output_type": "stream",
     "text": [
      "aimnet2 energy:  tensor([-10518.2732], device='cuda:1', dtype=torch.float64)\n"
     ]
    }
   ],
   "source": [
    "def sdf2aimnet_input(sdf: str, device=torch.device('cpu')) -> dict:\n",
    "    \"\"\"Converts sdf to aimnet input, assuming the sdf has only 1 conformer.\"\"\"\n",
    "    mol = next(Chem.SDMolSupplier(sdf, removeHs=False))\n",
    "    conf = mol.GetConformer()\n",
    "    coord = torch.tensor(conf.GetPositions(), device=device).unsqueeze(0)\n",
    "    numbers = torch.tensor([atom.GetAtomicNum() for atom in mol.GetAtoms()], device=device).unsqueeze(0)\n",
    "    charge = torch.tensor([Chem.GetFormalCharge(mol)], device=device, dtype=torch.float)\n",
    "    return dict(coord=coord, numbers=numbers, charge=charge)\n",
    "\n",
    "\n",
    "dct = sdf2aimnet_input(in_path, device=device)\n",
    "dct['coord'].requires_grad_(True)\n",
    "aimnet2_out = aimnet2(dct)\n",
    "print('aimnet2 energy: ', aimnet2_out['energy'])  # there is no gradient for energy"
   ]
  },
  {
   "cell_type": "code",
   "execution_count": 4,
   "metadata": {},
   "outputs": [
    {
     "name": "stdout",
     "output_type": "stream",
     "text": [
      "coord torch.Size([1, 20, 3])\n",
      "numbers torch.Size([1, 20])\n",
      "charge torch.Size([1])\n",
      "charges torch.Size([1, 20])\n",
      "charges_std torch.Size([1, 20])\n",
      "energy torch.Size([1])\n",
      "energy_std torch.Size([1])\n",
      "forces torch.Size([1, 20, 3])\n",
      "forces_std torch.Size([1, 20, 3])\n"
     ]
    }
   ],
   "source": [
    "for key, val in aimnet2_out.items():\n",
    "    print(key, val.shape)"
   ]
  },
  {
   "cell_type": "code",
   "execution_count": 5,
   "metadata": {},
   "outputs": [
    {
     "name": "stdout",
     "output_type": "stream",
     "text": [
      "aimnet2 energy:  tensor([-10518.2732], device='cuda:1', dtype=torch.float64)\n"
     ]
    }
   ],
   "source": [
    "print('aimnet2 energy: ', aimnet2_out['energy'])"
   ]
  },
  {
   "cell_type": "markdown",
   "metadata": {},
   "source": [
    "## aimnet2 single model"
   ]
  },
  {
   "cell_type": "code",
   "execution_count": 6,
   "metadata": {},
   "outputs": [
    {
     "name": "stdout",
     "output_type": "stream",
     "text": [
      "aimnet2_0 energy:  tensor([-10518.2655], device='cuda:1', dtype=torch.float64,\n",
      "       grad_fn=<AddBackward0>)\n"
     ]
    }
   ],
   "source": [
    "aimnet2_0out = aimnet2_0(dct)\n",
    "print('aimnet2_0 energy: ', aimnet2_0out['energy'])  # there is gradient function for energy"
   ]
  },
  {
   "cell_type": "code",
   "execution_count": 7,
   "metadata": {},
   "outputs": [
    {
     "name": "stdout",
     "output_type": "stream",
     "text": [
      "tensor([[[ 0.0198,  0.1783, -0.0657],\n",
      "         [ 0.0356, -0.2943,  0.0706],\n",
      "         [-0.0442,  0.0613,  0.1326],\n",
      "         [ 0.1627,  0.1406,  0.0440],\n",
      "         [-0.0146, -0.1142, -0.1864],\n",
      "         [-0.1602,  0.0206, -0.0834],\n",
      "         [-0.3099, -0.3564, -0.0733],\n",
      "         [ 0.0133, -0.1086,  0.0467],\n",
      "         [-0.1510,  0.0309, -0.0501],\n",
      "         [-0.1301,  0.0278, -0.1938],\n",
      "         [ 0.1394,  0.1691, -0.0113],\n",
      "         [ 0.1099, -0.1648, -0.1143],\n",
      "         [-0.0429, -0.0140, -0.2180],\n",
      "         [-0.1936,  0.0702,  0.0784],\n",
      "         [ 0.0217, -0.1661,  0.0584],\n",
      "         [ 0.1824,  0.0953,  0.2214],\n",
      "         [-0.1041,  0.1576,  0.1365],\n",
      "         [ 0.0342,  0.0051,  0.1738],\n",
      "         [ 0.1627, -0.0603, -0.0591],\n",
      "         [ 0.2689,  0.3220,  0.0929]]], device='cuda:1', dtype=torch.float64,\n",
      "       grad_fn=<NegBackward0>)\n"
     ]
    }
   ],
   "source": [
    "forces = -torch.autograd.grad(aimnet2_0out['energy'], dct['coord'], create_graph=True)[0]\n",
    "print(forces)"
   ]
  },
  {
   "cell_type": "markdown",
   "metadata": {},
   "source": [
    "## ANI-2xt"
   ]
  },
  {
   "cell_type": "code",
   "execution_count": 8,
   "metadata": {},
   "outputs": [],
   "source": [
    "from Auto3D.batch_opt.ANI2xt_no_rep import ANI2xt"
   ]
  },
  {
   "cell_type": "code",
   "execution_count": 9,
   "metadata": {},
   "outputs": [
    {
     "name": "stderr",
     "output_type": "stream",
     "text": [
      "/home/jack/miniconda3/envs/py39/lib/python3.9/site-packages/torchani/utils.py:159: UserWarning: To copy construct from a tensor, it is recommended to use sourceTensor.clone().detach() or sourceTensor.clone().detach().requires_grad_(True), rather than torch.tensor(sourceTensor).\n",
      "  self_energies = torch.tensor(self_energies, dtype=torch.double)\n"
     ]
    }
   ],
   "source": [
    "ani2xt = ANI2xt(device=device).double()"
   ]
  },
  {
   "cell_type": "code",
   "execution_count": 10,
   "metadata": {},
   "outputs": [
    {
     "name": "stdout",
     "output_type": "stream",
     "text": [
      "cuda:1\n",
      "cuda:1\n",
      "cuda:1\n",
      "torch.Size([1, 20])\n",
      "torch.Size([1, 20, 3])\n"
     ]
    }
   ],
   "source": [
    "print(next(ani2xt.parameters()).device)\n",
    "print(dct['numbers'].device)\n",
    "print(dct['coord'].device)\n",
    "print(dct['numbers'].shape)\n",
    "print(dct['coord'].shape)\n"
   ]
  },
  {
   "cell_type": "code",
   "execution_count": 11,
   "metadata": {},
   "outputs": [
    {
     "name": "stdout",
     "output_type": "stream",
     "text": [
      "tensor([[1, 1, 1, 1, 1, 1, 3, 3, 0, 0, 0, 0, 0, 0, 0, 0, 0, 0, 0, 0]],\n",
      "       device='cuda:1')\n",
      "torch.Size([1, 20])\n",
      "torch.int64\n",
      "tensor([-10506.7458], device='cuda:1', dtype=torch.float64,\n",
      "       grad_fn=<MulBackward0>) tensor([[[-0.1086, -0.5575,  0.0870],\n",
      "         [ 0.1492,  0.4527, -0.0644],\n",
      "         [ 0.0527,  0.0769,  0.1976],\n",
      "         [-0.0455, -0.1433,  0.0164],\n",
      "         [ 0.1827,  0.3086, -0.2481],\n",
      "         [-0.0053,  0.5933, -0.1470],\n",
      "         [-0.1012, -0.1057, -0.0098],\n",
      "         [-0.0458, -0.4597,  0.0937],\n",
      "         [-0.1637, -0.0676, -0.0271],\n",
      "         [-0.1362,  0.0115, -0.1234],\n",
      "         [ 0.1414,  0.2044, -0.0117],\n",
      "         [ 0.0519, -0.1948, -0.0617],\n",
      "         [-0.0190,  0.0291, -0.1953],\n",
      "         [-0.1545,  0.1042,  0.0672],\n",
      "         [ 0.0356, -0.1654,  0.0644],\n",
      "         [ 0.0809, -0.0095,  0.1417],\n",
      "         [ 0.0052,  0.1215,  0.1229],\n",
      "         [ 0.0556, -0.0132,  0.2087],\n",
      "         [ 0.2004, -0.0839, -0.0542],\n",
      "         [-0.1756, -0.1015, -0.0569]]], device='cuda:1', dtype=torch.float64)\n"
     ]
    }
   ],
   "source": [
    "periodict2idx = {1:0, 6:1, 7:2, 8:3, 9:4, 16:5, 17:6}\n",
    "numbers2 = torch.tensor([periodict2idx[num.item()] for num in dct['numbers'].squeeze()], device=device).unsqueeze(0)\n",
    "print(numbers2)\n",
    "print(numbers2.shape)\n",
    "print(numbers2.dtype)\n",
    "e, f= ani2xt(numbers2, dct['coord'])\n",
    "print(e, f)"
   ]
  },
  {
   "cell_type": "markdown",
   "metadata": {},
   "source": [
    "## ANI-2x"
   ]
  },
  {
   "cell_type": "code",
   "execution_count": 12,
   "metadata": {},
   "outputs": [],
   "source": [
    "import torchani\n",
    "from Auto3D.utils import hartree2ev"
   ]
  },
  {
   "cell_type": "code",
   "execution_count": 13,
   "metadata": {},
   "outputs": [],
   "source": [
    "ani2x = torchani.models.ANI2x(periodic_table_index=True).to(device).double()"
   ]
  },
  {
   "cell_type": "code",
   "execution_count": 14,
   "metadata": {},
   "outputs": [
    {
     "name": "stdout",
     "output_type": "stream",
     "text": [
      "torch.Size([1, 20])\n",
      "torch.Size([1, 20, 3])\n"
     ]
    }
   ],
   "source": [
    "print(dct['numbers'].shape)\n",
    "print(dct['coord'].shape)"
   ]
  },
  {
   "cell_type": "code",
   "execution_count": 15,
   "metadata": {},
   "outputs": [
    {
     "name": "stdout",
     "output_type": "stream",
     "text": [
      "tensor([-10508.4711], device='cuda:1', dtype=torch.float64,\n",
      "       grad_fn=<MulBackward0>) tensor([[[-2.7626e-03, -4.0848e-01,  1.0773e-01],\n",
      "         [ 5.9649e-04,  6.7412e-01, -1.8385e-01],\n",
      "         [ 5.3409e-02,  3.1565e-02,  2.1073e-01],\n",
      "         [ 3.1580e-02, -6.9823e-02,  3.6084e-02],\n",
      "         [ 6.2624e-02,  2.5490e-01, -2.7018e-01],\n",
      "         [-4.8090e-02,  2.2278e-01, -7.1346e-02],\n",
      "         [ 3.6675e-01, -1.4568e-01,  2.1477e-01],\n",
      "         [-3.4433e-01, -5.4557e-01, -3.2470e-02],\n",
      "         [-4.1047e-02, -5.8516e-02,  3.0438e-02],\n",
      "         [-4.6297e-03, -1.5265e-02, -4.9141e-03],\n",
      "         [ 3.9882e-02,  8.3096e-02, -4.4136e-02],\n",
      "         [-1.6983e-02, -3.8818e-02, -2.6022e-02],\n",
      "         [-2.2146e-02,  1.4923e-02, -9.1110e-03],\n",
      "         [-1.4549e-02,  1.3608e-02, -1.9153e-02],\n",
      "         [ 1.5301e-02, -2.0725e-02,  1.3282e-02],\n",
      "         [ 1.1635e-02,  5.9222e-02, -6.2080e-03],\n",
      "         [ 8.8300e-02, -1.3558e-04,  9.4194e-02],\n",
      "         [-1.1661e-02, -3.1744e-02,  1.0882e-02],\n",
      "         [ 1.1401e-03, -3.2095e-02,  2.7274e-04],\n",
      "         [-1.6502e-01,  1.2650e-02, -5.0988e-02]]], device='cuda:1',\n",
      "       dtype=torch.float64)\n"
     ]
    }
   ],
   "source": [
    "e = ani2x((dct['numbers'], dct['coord'])).energies\n",
    "e = e * hartree2ev\n",
    "g = torch.autograd.grad([e.sum()], dct['coord'])[0]\n",
    "f = -g\n",
    "print(e, f)"
   ]
  },
  {
   "cell_type": "code",
   "execution_count": null,
   "metadata": {},
   "outputs": [],
   "source": []
  }
 ],
 "metadata": {
  "kernelspec": {
   "display_name": "py39",
   "language": "python",
   "name": "python3"
  },
  "language_info": {
   "codemirror_mode": {
    "name": "ipython",
    "version": 3
   },
   "file_extension": ".py",
   "mimetype": "text/x-python",
   "name": "python",
   "nbconvert_exporter": "python",
   "pygments_lexer": "ipython3",
   "version": "3.9.17"
  },
  "orig_nbformat": 4
 },
 "nbformat": 4,
 "nbformat_minor": 2
}
