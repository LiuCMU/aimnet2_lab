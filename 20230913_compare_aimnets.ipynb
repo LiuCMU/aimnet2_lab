{
 "cells": [
  {
   "cell_type": "code",
   "execution_count": 1,
   "metadata": {},
   "outputs": [],
   "source": [
    "from rdkit import Chem\n",
    "import torch\n",
    "torch.backends.cuda.matmul.allow_tf32 = False\n",
    "torch.backends.cudnn.allow_tf32 = False"
   ]
  },
  {
   "cell_type": "code",
   "execution_count": 2,
   "metadata": {},
   "outputs": [
    {
     "name": "stdout",
     "output_type": "stream",
     "text": [
      "cuda:2\n"
     ]
    }
   ],
   "source": [
    "device = torch.device('cuda:2' if torch.cuda.is_available() else 'cpu')\n",
    "print(device)\n",
    "in_path = 'example.sdf'\n",
    "\n",
    "aimnet2 = torch.jit.load('/home/jack/aimnet2_lab/models/aimnet2_wb97m-d3_ens.jpt', map_location=device)"
   ]
  },
  {
   "cell_type": "code",
   "execution_count": 3,
   "metadata": {},
   "outputs": [
    {
     "name": "stdout",
     "output_type": "stream",
     "text": [
      "aimnet2 energy:  tensor([-10518.2732], device='cuda:2', dtype=torch.float64)\n"
     ]
    }
   ],
   "source": [
    "def sdf2aimnet_input(sdf: str, device=torch.device('cpu')) -> dict:\n",
    "    \"\"\"Converts sdf to aimnet input, assuming the sdf has only 1 conformer.\"\"\"\n",
    "    mol = next(Chem.SDMolSupplier(sdf, removeHs=False))\n",
    "    conf = mol.GetConformer()\n",
    "    coord = torch.tensor(conf.GetPositions(), device=device).unsqueeze(0)\n",
    "    numbers = torch.tensor([atom.GetAtomicNum() for atom in mol.GetAtoms()], device=device).unsqueeze(0)\n",
    "    charge = torch.tensor([Chem.GetFormalCharge(mol)], device=device, dtype=torch.float)\n",
    "    return dict(coord=coord, numbers=numbers, charge=charge)\n",
    "\n",
    "\n",
    "dct = sdf2aimnet_input(in_path, device=device)\n",
    "dct['coord'].requires_grad_(True)\n",
    "aimnet2_out = aimnet2(dct)\n",
    "print('aimnet2 energy: ', aimnet2_out['energy'])  # there is no gradient for energy"
   ]
  },
  {
   "cell_type": "code",
   "execution_count": 4,
   "metadata": {},
   "outputs": [
    {
     "name": "stdout",
     "output_type": "stream",
     "text": [
      "coord torch.Size([1, 20, 3])\n",
      "numbers torch.Size([1, 20])\n",
      "charge torch.Size([1])\n",
      "charges torch.Size([1, 20])\n",
      "charges_std torch.Size([1, 20])\n",
      "energy torch.Size([1])\n",
      "energy_std torch.Size([1])\n",
      "forces torch.Size([1, 20, 3])\n",
      "forces_std torch.Size([1, 20, 3])\n"
     ]
    }
   ],
   "source": [
    "for key, val in aimnet2_out.items():\n",
    "    print(key, val.shape)"
   ]
  },
  {
   "cell_type": "code",
   "execution_count": 5,
   "metadata": {},
   "outputs": [
    {
     "name": "stdout",
     "output_type": "stream",
     "text": [
      "aimnet2 energy:  tensor([-10518.2732], device='cuda:2', dtype=torch.float64)\n"
     ]
    }
   ],
   "source": [
    "print('aimnet2 energy: ', aimnet2_out['energy'])"
   ]
  },
  {
   "cell_type": "code",
   "execution_count": null,
   "metadata": {},
   "outputs": [],
   "source": [
    "forces = -torch.autograd.grad(aimnet2_out['energy'], dct['coord'], create_graph=True)[0]\n",
    "print(forces)"
   ]
  }
 ],
 "metadata": {
  "kernelspec": {
   "display_name": "py39",
   "language": "python",
   "name": "python3"
  },
  "language_info": {
   "codemirror_mode": {
    "name": "ipython",
    "version": 3
   },
   "file_extension": ".py",
   "mimetype": "text/x-python",
   "name": "python",
   "nbconvert_exporter": "python",
   "pygments_lexer": "ipython3",
   "version": "3.9.17"
  },
  "orig_nbformat": 4
 },
 "nbformat": 4,
 "nbformat_minor": 2
}
